{
 "cells": [
  {
   "cell_type": "code",
   "execution_count": 1,
   "metadata": {},
   "outputs": [],
   "source": [
    "import tensorflow as tf"
   ]
  },
  {
   "cell_type": "code",
   "execution_count": 2,
   "metadata": {},
   "outputs": [],
   "source": [
    "mnist = tf.keras.datasets.mnist"
   ]
  },
  {
   "cell_type": "code",
   "execution_count": 3,
   "metadata": {},
   "outputs": [],
   "source": [
    "(training_images, training_labels), (test_images, test_labels) = mnist.load_data()"
   ]
  },
  {
   "cell_type": "code",
   "execution_count": 4,
   "metadata": {},
   "outputs": [
    {
     "name": "stdout",
     "output_type": "stream",
     "text": [
      "60000\n",
      "60000\n",
      "10000\n",
      "10000\n"
     ]
    }
   ],
   "source": [
    "print(len(training_images))\n",
    "print(len(training_labels))\n",
    "print(len(test_images))\n",
    "print(len(test_labels))"
   ]
  },
  {
   "cell_type": "code",
   "execution_count": 5,
   "metadata": {},
   "outputs": [],
   "source": [
    "training_images = training_images.reshape(60000, 28, 28,1)\n",
    "training_images = training_images / 255.0\n",
    "test_images = test_images.reshape(10000, 28, 28, 1)\n",
    "test_images = test_images / 255.0"
   ]
  },
  {
   "cell_type": "code",
   "execution_count": 6,
   "metadata": {},
   "outputs": [],
   "source": [
    "class myCallback(tf.keras.callbacks.Callback):\n",
    "  def on_epoch_end(self, epoch, logs={}):\n",
    "    if (logs.get('accuracy') > 0.99):\n",
    "      print(\"\\nReached 99% accuracy so cancelling training\")\n",
    "      self.model.stop_training = True"
   ]
  },
  {
   "cell_type": "code",
   "execution_count": 7,
   "metadata": {},
   "outputs": [],
   "source": [
    "callback = myCallback()"
   ]
  },
  {
   "cell_type": "markdown",
   "metadata": {},
   "source": [
    "The below is 64 convolutions in 1 convolutional layer | 1 pooling layer | 100 epoch with callback on 99% acc"
   ]
  },
  {
   "cell_type": "code",
   "execution_count": 8,
   "metadata": {},
   "outputs": [
    {
     "name": "stdout",
     "output_type": "stream",
     "text": [
      "Model - 64 Convolutions | 1 Convolutional layer | 1 pooling layer | 100 epochs | callback for 99% accuracy\n",
      "------------------------\n",
      "Train on 60000 samples\n",
      "Epoch 1/100\n",
      "60000/60000 [==============================] - 33s 551us/sample - loss: 0.1383 - accuracy: 0.9581\n",
      "Epoch 2/100\n",
      "60000/60000 [==============================] - 32s 528us/sample - loss: 0.0475 - accuracy: 0.9860\n",
      "Epoch 3/100\n",
      "59904/60000 [============================>.] - ETA: 0s - loss: 0.0298 - accuracy: 0.9909\n",
      "Reached 99% accuracy so cancelling training\n",
      "60000/60000 [==============================] - 32s 526us/sample - loss: 0.0297 - accuracy: 0.9909\n",
      "10000/10000 [==============================] - 1s 127us/sample - loss: 0.0454 - accuracy: 0.9850\n"
     ]
    }
   ],
   "source": [
    "print(\"Model - 64 Convolutions | 1 Convolutional layer | 1 pooling layer | 100 epochs | callback for 99% accuracy\")\n",
    "print(\"------------------------\")\n",
    "model = tf.keras.Sequential([\n",
    "                              tf.keras.layers.Conv2D(64, (3,3), activation='relu', input_shape=(28,28,1)),\n",
    "                              tf.keras.layers.MaxPooling2D(2,2),\n",
    "                              tf.keras.layers.Flatten(),\n",
    "                              tf.keras.layers.Dense(128, activation='relu'),\n",
    "                              tf.keras.layers.Dense(10, activation='softmax')\n",
    "])\n",
    "model.compile(optimizer='adam', loss='sparse_categorical_crossentropy', metrics=['accuracy'])\n",
    "model.fit(training_images, training_labels, epochs=100, callbacks=[callback])\n",
    "test_loss = model.evaluate(test_images, test_labels)"
   ]
  },
  {
   "cell_type": "markdown",
   "metadata": {},
   "source": [
    "Reached 99% on the 3rd epoch. Going to run 2 more models for 10 epochs with no callback. 64 and 32 convolutions to see which returns the best validation accuracy score"
   ]
  },
  {
   "cell_type": "code",
   "execution_count": 9,
   "metadata": {},
   "outputs": [
    {
     "name": "stdout",
     "output_type": "stream",
     "text": [
      "Train on 60000 samples\n",
      "Epoch 1/10\n",
      "60000/60000 [==============================] - 32s 534us/sample - loss: 0.1356 - accuracy: 0.9588\n",
      "Epoch 2/10\n",
      "60000/60000 [==============================] - 31s 524us/sample - loss: 0.0462 - accuracy: 0.9855\n",
      "Epoch 3/10\n",
      "60000/60000 [==============================] - 32s 525us/sample - loss: 0.0291 - accuracy: 0.9909\n",
      "Epoch 4/10\n",
      "60000/60000 [==============================] - 32s 537us/sample - loss: 0.0179 - accuracy: 0.9941\n",
      "Epoch 5/10\n",
      "60000/60000 [==============================] - 32s 530us/sample - loss: 0.0114 - accuracy: 0.9963\n",
      "Epoch 6/10\n",
      "60000/60000 [==============================] - 32s 527us/sample - loss: 0.0086 - accuracy: 0.9972\n",
      "Epoch 7/10\n",
      "60000/60000 [==============================] - 33s 549us/sample - loss: 0.0069 - accuracy: 0.9977- loss: 0.0069 - accu\n",
      "Epoch 8/10\n",
      "60000/60000 [==============================] - 32s 526us/sample - loss: 0.0052 - accuracy: 0.9983\n",
      "Epoch 9/10\n",
      "60000/60000 [==============================] - 32s 530us/sample - loss: 0.0063 - accuracy: 0.9980\n",
      "Epoch 10/10\n",
      "60000/60000 [==============================] - 32s 528us/sample - loss: 0.0032 - accuracy: 0.9989\n",
      "10000/10000 [==============================] - 1s 123us/sample - loss: 0.0509 - accuracy: 0.9878\n"
     ]
    }
   ],
   "source": [
    "model = tf.keras.Sequential([\n",
    "                              tf.keras.layers.Conv2D(64, (3,3), activation='relu', input_shape=(28,28,1)),\n",
    "                              tf.keras.layers.MaxPooling2D(2,2),\n",
    "                              tf.keras.layers.Flatten(),\n",
    "                              tf.keras.layers.Dense(128, activation='relu'),\n",
    "                              tf.keras.layers.Dense(10, activation='softmax')\n",
    "])\n",
    "model.compile(optimizer='adam', loss='sparse_categorical_crossentropy', metrics=['accuracy'])\n",
    "model.fit(training_images, training_labels, epochs=10)\n",
    "test_loss = model.evaluate(test_images, test_labels)"
   ]
  },
  {
   "cell_type": "code",
   "execution_count": 10,
   "metadata": {},
   "outputs": [
    {
     "name": "stdout",
     "output_type": "stream",
     "text": [
      "Train on 60000 samples\n",
      "Epoch 1/10\n",
      "60000/60000 [==============================] - 16s 270us/sample - loss: 0.1536 - accuracy: 0.9553\n",
      "Epoch 2/10\n",
      "60000/60000 [==============================] - 16s 267us/sample - loss: 0.0497 - accuracy: 0.9853\n",
      "Epoch 3/10\n",
      "60000/60000 [==============================] - 16s 266us/sample - loss: 0.0317 - accuracy: 0.9900\n",
      "Epoch 4/10\n",
      "60000/60000 [==============================] - 16s 270us/sample - loss: 0.0211 - accuracy: 0.9936\n",
      "Epoch 5/10\n",
      "60000/60000 [==============================] - 16s 270us/sample - loss: 0.0144 - accuracy: 0.9955\n",
      "Epoch 6/10\n",
      "60000/60000 [==============================] - 16s 272us/sample - loss: 0.0097 - accuracy: 0.9969\n",
      "Epoch 7/10\n",
      "60000/60000 [==============================] - 16s 272us/sample - loss: 0.0080 - accuracy: 0.9974\n",
      "Epoch 8/10\n",
      "60000/60000 [==============================] - 16s 271us/sample - loss: 0.0060 - accuracy: 0.9981\n",
      "Epoch 9/10\n",
      "60000/60000 [==============================] - 16s 271us/sample - loss: 0.0057 - accuracy: 0.9982\n",
      "Epoch 10/10\n",
      "60000/60000 [==============================] - 16s 272us/sample - loss: 0.0039 - accuracy: 0.9987\n",
      "10000/10000 [==============================] - 1s 77us/sample - loss: 0.0540 - accuracy: 0.9869\n"
     ]
    }
   ],
   "source": [
    "model = tf.keras.Sequential([\n",
    "                              tf.keras.layers.Conv2D(32, (3,3), activation='relu', input_shape=(28,28,1)),\n",
    "                              tf.keras.layers.MaxPooling2D(2,2),\n",
    "                              tf.keras.layers.Flatten(),\n",
    "                              tf.keras.layers.Dense(128, activation='relu'),\n",
    "                              tf.keras.layers.Dense(10, activation='softmax')\n",
    "])\n",
    "model.compile(optimizer='adam', loss='sparse_categorical_crossentropy', metrics=['accuracy'])\n",
    "model.fit(training_images, training_labels, epochs=10)\n",
    "test_loss = model.evaluate(test_images, test_labels)"
   ]
  },
  {
   "cell_type": "code",
   "execution_count": null,
   "metadata": {},
   "outputs": [],
   "source": []
  }
 ],
 "metadata": {
  "kernelspec": {
   "display_name": "Python 3",
   "language": "python",
   "name": "python3"
  },
  "language_info": {
   "codemirror_mode": {
    "name": "ipython",
    "version": 3
   },
   "file_extension": ".py",
   "mimetype": "text/x-python",
   "name": "python",
   "nbconvert_exporter": "python",
   "pygments_lexer": "ipython3",
   "version": "3.6.7"
  }
 },
 "nbformat": 4,
 "nbformat_minor": 4
}
